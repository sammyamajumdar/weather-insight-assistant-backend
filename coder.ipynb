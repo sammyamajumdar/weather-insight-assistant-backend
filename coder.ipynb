{
 "cells": [
  {
   "cell_type": "code",
   "execution_count": 1,
   "id": "6a4a5184",
   "metadata": {},
   "outputs": [],
   "source": [
    "from dotenv import load_dotenv\n",
    "import os\n",
    "from urllib.parse import quote_plus\n",
    "from dotenv import load_dotenv\n",
    "from sqlalchemy import create_engine\n",
    "from langchain.agents import create_sql_agent\n",
    "from langchain.agents.agent_types import AgentType\n",
    "from langchain.sql_database import SQLDatabase\n",
    "from langchain_community.agent_toolkits import SQLDatabaseToolkit\n",
    "from langchain_openai import AzureChatOpenAI"
   ]
  },
  {
   "cell_type": "code",
   "execution_count": 2,
   "id": "938aff42",
   "metadata": {},
   "outputs": [
    {
     "data": {
      "text/plain": [
       "True"
      ]
     },
     "execution_count": 2,
     "metadata": {},
     "output_type": "execute_result"
    }
   ],
   "source": [
    "load_dotenv()"
   ]
  },
  {
   "cell_type": "code",
   "execution_count": 3,
   "id": "6ef93a45",
   "metadata": {},
   "outputs": [],
   "source": [
    "azure_openai_api_key = os.environ[\"AZURE_OPENAI_API_KEY\"]\n",
    "azure_openai_endpoint = os.environ[\"AZURE_OPENAI_ENDPOINT\"]\n",
    "azure_api_version = os.environ[\"OPENAI_API_VERSION\"]\n",
    "\n",
    "database_connection_string = os.environ[\"SQL_DATABASE_CONNECTION_STRING\"]\n",
    "database_password = os.environ[\"SQL_DATABASE_PASSWORD\"]"
   ]
  },
  {
   "cell_type": "code",
   "execution_count": 11,
   "id": "7769818a",
   "metadata": {},
   "outputs": [],
   "source": [
    "def database_connector(database_connection_string, database_password, schema): \n",
    "    try: \n",
    "        db_engine = create_engine(database_connection_string % quote_plus(database_password))\n",
    "        db = SQLDatabase(db_engine, view_support=True, schema=schema)\n",
    "        print(db.dialect)\n",
    "        print(db.get_usable_table_names())\n",
    "        db.run(\"select convert(varchar(25), getdate(), 120)\")\n",
    "        \n",
    "        return db\n",
    "    except Exception as e: \n",
    "        print(f\"Connection to database failed. {e}\")\n",
    "\n",
    "\n",
    "def get_llm_client(model_name = \"gpt-4\", deployment = \"gpt-4\"): \n",
    "\n",
    "    azurellm = AzureChatOpenAI(\n",
    "        model_name=model_name,\n",
    "        deployment_name=deployment \n",
    "    )\n",
    "\n",
    "    return azurellm\n",
    "\n",
    "def get_sql_agent(azurellm, database):\n",
    "    toolkit = SQLDatabaseToolkit(db=database, llm=azurellm)\n",
    "\n",
    "    agent_executor = create_sql_agent(\n",
    "        llm=azurellm,\n",
    "        toolkit=toolkit,\n",
    "        verbose=True,\n",
    "        agent_type=AgentType.ZERO_SHOT_REACT_DESCRIPTION,\n",
    "        handle_parsing_errors=True\n",
    "    )\n",
    "\n",
    "    return agent_executor"
   ]
  },
  {
   "cell_type": "code",
   "execution_count": null,
   "id": "c8f91da8",
   "metadata": {},
   "outputs": [],
   "source": [
    "db = database_connector(database_connection_string=database_connection_string, database_password=database_password, schema=\"dbo\")\n",
    "azurellm = get_llm_client()\n",
    "llm_agent = get_sql_agent(azurellm, db)"
   ]
  },
  {
   "cell_type": "code",
   "execution_count": 13,
   "id": "b958a5ee",
   "metadata": {},
   "outputs": [
    {
     "name": "stdout",
     "output_type": "stream",
     "text": [
      "\n",
      "\n",
      "\u001b[1m> Entering new SQL Agent Executor chain...\u001b[0m\n",
      "\u001b[32;1m\u001b[1;3mAction: sql_db_list_tables\n",
      "Action Input: \u001b[0m\u001b[38;5;200m\u001b[1;3mcurated_weather_data, raw_weather_data\u001b[0m\u001b[32;1m\u001b[1;3mThe 'curated_weather_data' table seems more relevant for getting cleaned and useful weather data. I need to check the schema of this table to see what columns are available, particularly those that could relate to time and the winter months.\n",
      "Action: sql_db_schema\n",
      "Action Input: curated_weather_data\u001b[0m\u001b[33;1m\u001b[1;3m\n",
      "CREATE TABLE dbo.curated_weather_data (\n",
      "\trecord_id NVARCHAR(max) COLLATE SQL_Latin1_General_CP1_CI_AS NULL, \n",
      "\ttemperature FLOAT(53) NULL, \n",
      "\trelative_humidity FLOAT(53) NULL, \n",
      "\tprecipitation FLOAT(53) NULL, \n",
      "\twind_direction FLOAT(53) NULL, \n",
      "\twind_speed FLOAT(53) NULL, \n",
      "\twind_gust FLOAT(53) NULL, \n",
      "\tpressure FLOAT(53) NULL, \n",
      "\tsun_shine FLOAT(53) NULL, \n",
      "\tweather_condition_code INTEGER NULL, \n",
      "\tsnow FLOAT(53) NULL, \n",
      "\tdew_point NVARCHAR(max) COLLATE SQL_Latin1_General_CP1_CI_AS NULL, \n",
      "\ttime DATETIME2 NULL\n",
      ")\n",
      "\n",
      "/*\n",
      "3 rows from curated_weather_data table:\n",
      "record_id\ttemperature\trelative_humidity\tprecipitation\twind_direction\twind_speed\twind_gust\tpressure\tsun_shine\tweather_condition_code\tsnow\tdew_point\ttime\n",
      "1640f531-69a6-44fd-9ad9-577c9a21087c\t13.8\t82.0\tNone\t210.0\t35.3\t59.3\t994.0\tNone\t7\tNone\t10.8\t2020-01-14 16:00:00\n",
      "0ddc01b1-b461-42ca-be75-66ee397efc44\t13.8\t82.0\tNone\t210.0\t37.1\t63.0\t994.0\tNone\t7\tNone\t10.8\t2020-01-14 17:00:00\n",
      "1c6e4fab-500e-42dd-87b1-d94950ca2685\t13.8\t82.0\tNone\t210.0\t33.5\t61.1\t995.0\tNone\t7\tNone\t10.8\t2020-01-14 18:00:00\n",
      "*/\u001b[0m\u001b[32;1m\u001b[1;3mThe 'curated_weather_data' table includes a 'time' column that can be used to filter records by specific hours or months. Since the query pertains to winter months, I need to filter the data for December, January, and February. I will also look at the 'temperature', 'snow', and other weather-related columns as they might impact energy demand during winter.\n",
      "\n",
      "The table allows only querying up to 10 rows, so I will ensure to limit my query as such and order it by potentially higher energy demand indicators like low temperature or high snowfall.\n",
      "\n",
      "I will construct the query to filter the records from the winter months based on the 'time' column and order by 'temperature' ascending since lower temperatures often indicate higher heating demand.\n",
      "Action: sql_db_query_checker\n",
      "Action Input: SELECT time, temperature, snow FROM curated_weather_data WHERE MONTH(time) IN (12, 1, 2) ORDER BY temperature ASC LIMIT 10\u001b[0m\u001b[36;1m\u001b[1;3mSELECT time, temperature, snow FROM curated_weather_data WHERE MONTH(time) IN (12, 1, 2) ORDER BY temperature ASC LIMIT 10\u001b[0m\u001b[32;1m\u001b[1;3mThe query has no syntax errors and is ready to execute.\n",
      "Action: sql_db_query\n",
      "Action Input: SELECT time, temperature, snow FROM curated_weather_data WHERE MONTH(time) IN (12, 1, 2) ORDER BY temperature ASC LIMIT 10\u001b[0m\u001b[36;1m\u001b[1;3mError: (pyodbc.ProgrammingError) ('42000', \"[42000] [Microsoft][ODBC Driver 18 for SQL Server][SQL Server]Incorrect syntax near 'LIMIT'. (102) (SQLExecDirectW)\")\n",
      "[SQL: SELECT time, temperature, snow FROM curated_weather_data WHERE MONTH(time) IN (12, 1, 2) ORDER BY temperature ASC LIMIT 10]\n",
      "(Background on this error at: https://sqlalche.me/e/20/f405)\u001b[0m\u001b[32;1m\u001b[1;3mI realized I used a syntax that is not compatible with MSSQL for limiting rows; in MSSQL, \"LIMIT\" should be replaced with \"TOP\". I will correct my SQL query accordingly.\n",
      "Action: sql_db_query_checker\n",
      "Action Input: SELECT TOP 10 time, temperature, snow FROM curated_weather_data WHERE MONTH(time) IN (12, 1, 2) ORDER BY temperature ASC\u001b[0m\u001b[36;1m\u001b[1;3mSELECT TOP 10 time, temperature, snow FROM curated_weather_data WHERE MONTH(time) IN (12, 1, 2) ORDER BY temperature ASC\u001b[0m\u001b[32;1m\u001b[1;3mThe corrected query is valid for execution.\n",
      "Action: sql_db_query\n",
      "Action Input: SELECT TOP 10 time, temperature, snow FROM curated_weather_data WHERE MONTH(time) IN (12, 1, 2) ORDER BY temperature ASC\u001b[0m\u001b[36;1m\u001b[1;3m[(datetime.datetime(2020, 1, 21, 6, 0), 0.8, None), (datetime.datetime(2020, 1, 21, 7, 0), 0.8, None), (datetime.datetime(2020, 1, 21, 8, 0), 0.8, None), (datetime.datetime(2020, 1, 21, 6, 0), 0.8, None), (datetime.datetime(2020, 1, 21, 7, 0), 0.8, None), (datetime.datetime(2020, 1, 21, 8, 0), 0.8, None), (datetime.datetime(2020, 1, 21, 6, 0), 0.8, None), (datetime.datetime(2020, 1, 21, 7, 0), 0.8, None), (datetime.datetime(2020, 1, 21, 8, 0), 0.8, None), (datetime.datetime(2020, 1, 21, 6, 0), 0.8, None)]\u001b[0m\u001b[32;1m\u001b[1;3mThe data from the 'curated_weather_data' table indicates that during the winter months (December, January, and February), times early in the morning, specifically around 6:00 AM to 8:00 AM, had the lowest temperatures recorded at 0.8°C. These times could potentially be periods of spike in energy demand due to increased heating needs. No snow was recorded during these times in the dataset sampled.\n",
      "Final Answer: During winter months, the energy supplier can expect a spike in demands early in the morning, around 6:00 AM to 8:00 AM, when the temperatures are at their lowest based on the available data.\u001b[0m\n",
      "\n",
      "\u001b[1m> Finished chain.\u001b[0m\n"
     ]
    },
    {
     "data": {
      "text/plain": [
       "{'input': 'You are a helpful assistant working for a energy supplier. They are keen to understand their demand forcasts to efficiently plan their operations. \\nBased on the data provided, you will respond to any questions that an user might have.\\nFor every user question which will be provided below, please return an analysis and a summary of the information you used in your analysis. \\nPlease dont use pleasantries of any form. Do not hallucinate, if the response is not within the data or you cannot figure it, \\nreturn information not found.based on the weather data provided in the curated table, can you tell me around what times during winter months a energy supplier can expect spike in demands?',\n",
       " 'output': 'During winter months, the energy supplier can expect a spike in demands early in the morning, around 6:00 AM to 8:00 AM, when the temperatures are at their lowest based on the available data.'}"
      ]
     },
     "execution_count": 13,
     "metadata": {},
     "output_type": "execute_result"
    }
   ],
   "source": [
    "base_prompt = \"\"\"You are a helpful assistant working for a energy supplier. They are keen to understand their demand forcasts to efficiently plan their operations. \n",
    "Based on the data provided, you will respond to any questions that an user might have.\n",
    "For every user question which will be provided below, please return an analysis and a summary of the information you used in your analysis. \n",
    "Please dont use pleasantries of any form. Do not hallucinate, if the response is not within the data or you cannot figure it, \n",
    "return information not found.\"\"\"\n",
    "user_prompt = \"based on the weather data provided in the curated table, can you tell me around what times during winter months a energy supplier can expect spike in demands?\"\n",
    "llm_agent.invoke(base_prompt + user_prompt)"
   ]
  }
 ],
 "metadata": {
  "kernelspec": {
   "display_name": ".venv",
   "language": "python",
   "name": "python3"
  },
  "language_info": {
   "codemirror_mode": {
    "name": "ipython",
    "version": 3
   },
   "file_extension": ".py",
   "mimetype": "text/x-python",
   "name": "python",
   "nbconvert_exporter": "python",
   "pygments_lexer": "ipython3",
   "version": "3.11.0"
  }
 },
 "nbformat": 4,
 "nbformat_minor": 5
}
